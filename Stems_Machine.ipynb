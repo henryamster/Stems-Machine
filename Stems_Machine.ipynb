{
  "nbformat": 4,
  "nbformat_minor": 0,
  "metadata": {
    "colab": {
      "name": "Stems Machine.ipynb",
      "provenance": [],
      "collapsed_sections": [],
      "toc_visible": true,
      "authorship_tag": "ABX9TyNDNUqQZc+o9eFkw2pS09J+",
      "include_colab_link": true
    },
    "kernelspec": {
      "name": "python3",
      "display_name": "Python 3"
    },
    "language_info": {
      "name": "python"
    }
  },
  "cells": [
    {
      "cell_type": "markdown",
      "metadata": {
        "id": "view-in-github",
        "colab_type": "text"
      },
      "source": [
        "<a href=\"https://colab.research.google.com/github/henryamster/Stems-Machine/blob/main/Stems_Machine.ipynb\" target=\"_parent\"><img src=\"https://colab.research.google.com/assets/colab-badge.svg\" alt=\"Open In Colab\"/></a>"
      ]
    },
    {
      "cell_type": "markdown",
      "metadata": {
        "id": "OqfuyW8O0ycD"
      },
      "source": [
        "# Stems Machine\n",
        "\n",
        "## How to use it:\n",
        "\n",
        "Replace the link below named ytLink with the link to the video you wish to get stems from.\n",
        "\n",
        "then, either type **ctrl + f9** or go up and hit the \"**Run All**\" option in the runtime menu. \n",
        "\n",
        "Give it a few minutes to download and install [**Spleeter**](https://github.com/deezer/spleeter), and then it should usually take between one and two minutes for a typical song to be converted.\n",
        "\n",
        "Once it's done running, to get stems for another song, simply replace the ytLink value below and either hit **ctrl + f9** or go up and hit the \"**Run All**\" option in the runtime menu again. \n",
        "\n",
        "## Caveats \n",
        "\n",
        "After the process had finished, you will be prompted to download the file. If you've already downloaded one file and are getting a second set of stems, your browser may pop up a warning about downloading multiple files from google collab. You can hit accept to keep downloading more. Or you don't have to-- totally up to you lol!\n",
        "\n",
        "## What you get\n",
        "\n",
        "A zipped folder with stems that include: \\\n",
        "-- **Vocals.mp3** \\\n",
        "-- **Piano.mp3** \\\n",
        "-- **Bass.mp3** \\\n",
        "-- **Drums.mp3** \\\n",
        "-- **Other.mp3** \n",
        "\n",
        "\n"
      ]
    },
    {
      "cell_type": "code",
      "metadata": {
        "id": "0CSpIITT1FF6"
      },
      "source": [
        "ytLink = \"https://www.youtube.com/watch?v=U-UAP_LMpqc\" #@param {type:\"string\"}"
      ],
      "execution_count": null,
      "outputs": []
    },
    {
      "cell_type": "code",
      "metadata": {
        "id": "513BmQ_evu6P"
      },
      "source": [
        "!apt install ffmpeg\n",
        "!pip install spleeter pydub youtube-dl"
      ],
      "execution_count": null,
      "outputs": []
    },
    {
      "cell_type": "code",
      "metadata": {
        "id": "F0fN1C-qv33b"
      },
      "source": [
        "if os.path.exists('./content/originalDL.mp3'):\n",
        "  os.remove('./content/originalDL.mp3')\n",
        "\n",
        "import youtube_dl\n",
        "ydl_opts = {\n",
        "    'format': 'bestaudio/best',\n",
        "    'postprocessors': [{\n",
        "        'key': 'FFmpegExtractAudio',\n",
        "        'preferredcodec': 'mp3',\n",
        "        'preferredquality': '320',\n",
        "    }],\n",
        "    'outtmpl': 'content/originalDL.mp3'\n",
        "}\n",
        "\n",
        "with youtube_dl.YoutubeDL(ydl_opts) as ydl:\n",
        "    ydl.download([ytLink])"
      ],
      "execution_count": null,
      "outputs": []
    },
    {
      "cell_type": "code",
      "metadata": {
        "id": "CWiaYQESw2yp"
      },
      "source": [
        "!spleeter separate -o output -p spleeter:5stems content/originalDL.mp3"
      ],
      "execution_count": null,
      "outputs": []
    },
    {
      "cell_type": "code",
      "metadata": {
        "id": "yiYBqh969kSB"
      },
      "source": [
        "if not os.path.exists('./content/mp3/'):\n",
        "    os.makedirs('./content/mp3/')\n",
        "else:\n",
        "    for x in os.listdir('./content/mp3'):\n",
        "      os.remove('./content/mp3/' + x)\n",
        "\n",
        "import os, pydub\n",
        " \n",
        "for x in os.listdir('./output/originalDL'):\n",
        "    exp = pydub.AudioSegment.from_wav(\"./output/originalDL/\" + x)\n",
        "    exp.export(\"./content/mp3/\" + x[:-3] + \"mp3\", format=\"mp3\")"
      ],
      "execution_count": null,
      "outputs": []
    },
    {
      "cell_type": "code",
      "metadata": {
        "id": "urcgY0w3-GNd"
      },
      "source": [
        "if os.path.exists('./content/stems.zip'):\n",
        "  os.remove('./content/stems.zip')\n",
        "\n",
        "!zip -r content/stems.zip content/mp3\n",
        "\n",
        "from google.colab import files\n",
        "files.download(\"content/stems.zip\")"
      ],
      "execution_count": null,
      "outputs": []
    }
  ]
}